{
 "cells": [
  {
   "cell_type": "markdown",
   "id": "16bd0d94-ddb2-4f85-9ec6-c91137fe6622",
   "metadata": {},
   "source": [
    "# Gearbox Vibration Data Preprocessing\n",
    "\n",
    "## 🎯 Aim\n",
    "To import, label, and merge vibration signal data from healthy and broken gearboxes. The goal is to create a structured dataset for further machine learning tasks. \n",
    "\n",
    "My task is to preprocess the data by:\n",
    "- Assigning appropriate labels for the gearbox conditions (healthy or broken).\n",
    "- Extracting metadata (load percentage) from filenames.\n",
    "- Creating a single, structured DataFrame that combines both healthy and broken gearbox data.\n",
    "\n",
    "## 🪜 Steps Involved\n",
    "1. **Define and locate the data folders** (`Healthy` and `BrokenTooth`) inside the `data/` directory.\n",
    "2. **Load all `.csv` files** from each folder.\n",
    "3. **Assign appropriate column names** and add metadata:\n",
    "   - `condition`: 0 for healthy, 1 for broken\n",
    "   - `load`: extracted from filename\n",
    "   - `source_file`: original file name\n",
    "4. **Combine all the processed data** into a single DataFrame.\n",
    "5. **Export the final structured data** as `processed_gearbox_data.csv`.\n",
    "\n",
    "## 📦 Final Output\n",
    "A CSV file containing all vibration data with columns: `a1`, `a2`, `a3`, `a4`, `condition`, `load`, and `source_file`. This dataset will be used for machine learning tasks such as classification and anomaly detection.\n"
   ]
  },
  {
   "cell_type": "code",
   "execution_count": 2,
   "id": "63b2356a-a7a4-44da-ab9c-86a930464617",
   "metadata": {},
   "outputs": [],
   "source": [
    "import pandas as pd\n",
    "from pathlib import Path"
   ]
  },
  {
   "cell_type": "code",
   "execution_count": 3,
   "id": "92733e4d-fcba-4728-91c3-4c74c57edfe4",
   "metadata": {},
   "outputs": [],
   "source": [
    "# Define paths\n",
    "data_dir = Path(\"../data\")\n",
    "healthy_dir = data_dir / \"Healthy\"\n",
    "broken_dir = data_dir / \"BrokenTooth\""
   ]
  },
  {
   "cell_type": "code",
   "execution_count": 4,
   "id": "1af9b9e5-b5ad-4783-9cb7-9eb4d767eadc",
   "metadata": {},
   "outputs": [],
   "source": [
    "# Step 1: Read Healthy files\n",
    "healthy_data = []\n",
    "for file in healthy_dir.glob(\"*.csv\"):\n",
    "    try:\n",
    "        df = pd.read_csv(file)\n",
    "        df['condition'] = 0  # Healthy\n",
    "        df['load'] = int(''.join(filter(str.isdigit, file.stem[-2:])))  # e.g., 90 from h30hz90\n",
    "        df['source_file'] = file.name\n",
    "        healthy_data.append(df)\n",
    "    except Exception as e:\n",
    "        print(f\"⚠️ Error reading {file.name}: {e}\")"
   ]
  },
  {
   "cell_type": "code",
   "execution_count": 5,
   "id": "9af2ab52-87e9-47e1-8cf8-60c4a5f48582",
   "metadata": {},
   "outputs": [],
   "source": [
    "# Step 2: Read BrokenTooth files\n",
    "broken_data = []\n",
    "for file in broken_dir.glob(\"*.csv\"):\n",
    "    try:\n",
    "        df = pd.read_csv(file)\n",
    "        df['condition'] = 1  # Broken\n",
    "        df['load'] = int(''.join(filter(str.isdigit, file.stem[-2:])))  # e.g., 90 from b30hz90\n",
    "        df['source_file'] = file.name\n",
    "        broken_data.append(df)\n",
    "    except Exception as e:\n",
    "        print(f\"⚠️ Error reading {file.name}: {e}\")"
   ]
  },
  {
   "cell_type": "code",
   "execution_count": 6,
   "id": "b69e91a4-4fbd-4c01-b346-4a285e691a0d",
   "metadata": {},
   "outputs": [],
   "source": [
    "# Step 3: Combine both\n",
    "all_data = pd.concat(healthy_data + broken_data, ignore_index=True)"
   ]
  },
  {
   "cell_type": "code",
   "execution_count": 7,
   "id": "a006168d-23ec-4b8f-bb47-1af64b0c617d",
   "metadata": {},
   "outputs": [],
   "source": [
    "# Step 4: Save to CSV\n",
    "output_file = Path(\"../data/processed_gearbox_data.csv\")\n",
    "all_data.to_csv(output_file, index=False)"
   ]
  },
  {
   "cell_type": "code",
   "execution_count": 8,
   "id": "b084dd9c-d85f-4983-8d57-ccd92e154af4",
   "metadata": {},
   "outputs": [
    {
     "name": "stdout",
     "output_type": "stream",
     "text": [
      "✅ Data preprocessing complete!\n",
      "🔢 Total samples: 2021119\n",
      "🔧 Broken samples: 1005311\n",
      "✅ Healthy samples: 1015808\n",
      "\n",
      "🔍 Sample data:\n",
      "         a1        a2        a3       a4  condition  load source_file\n",
      "0  4.636710  0.516978 -3.205940  1.82241          0     0  h30hz0.csv\n",
      "1  1.992800  4.184660 -2.740610  2.80436          0     0  h30hz0.csv\n",
      "2 -3.764110  0.997335 -1.303090  1.83668          0     0  h30hz0.csv\n",
      "3 -4.558710  6.104330 -1.720690  1.72311          0     0  h30hz0.csv\n",
      "4  0.575382  0.170980 -0.497967 -1.32895          0     0  h30hz0.csv\n"
     ]
    }
   ],
   "source": [
    "# Step 5: Print summary\n",
    "print(\"✅ Data preprocessing complete!\")\n",
    "print(f\"🔢 Total samples: {len(all_data)}\")\n",
    "print(f\"🔧 Broken samples: {all_data['condition'].sum()}\")\n",
    "print(f\"✅ Healthy samples: {len(all_data) - all_data['condition'].sum()}\")\n",
    "print(\"\\n🔍 Sample data:\")\n",
    "print(all_data.head())"
   ]
  },
  {
   "cell_type": "code",
   "execution_count": null,
   "id": "cb06b49d-0f73-47e2-9c6b-27eae04f9dac",
   "metadata": {},
   "outputs": [],
   "source": []
  }
 ],
 "metadata": {
  "kernelspec": {
   "display_name": "Python 3 (ipykernel)",
   "language": "python",
   "name": "python3"
  },
  "language_info": {
   "codemirror_mode": {
    "name": "ipython",
    "version": 3
   },
   "file_extension": ".py",
   "mimetype": "text/x-python",
   "name": "python",
   "nbconvert_exporter": "python",
   "pygments_lexer": "ipython3",
   "version": "3.12.4"
  }
 },
 "nbformat": 4,
 "nbformat_minor": 5
}
